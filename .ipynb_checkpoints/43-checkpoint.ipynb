{
 "cells": [
  {
   "cell_type": "code",
   "execution_count": 96,
   "id": "c822278a",
   "metadata": {},
   "outputs": [
    {
     "name": "stdout",
     "output_type": "stream",
     "text": [
      "Вихідні дані датасету iris мають розмірність: (150, 4)\n",
      "\n",
      "Перетворені дані методом VarianceTreshold мають розмірність: (150, 3)\n",
      "\n",
      "Перетворені дані методом SelectKBest мають розмірність: (150, 3)\n",
      "\n",
      "Метод SelectFromModel відібрав ознаки: [2 3]\n",
      "\n",
      "Перетворені дані методом PCA мають розмірність: (150, 3)\n",
      "\n",
      "Перетворені дані методом SVD мають розмірність: (150, 3)\n",
      "\n",
      "Перетворені дані методом LDA мають розмірність: (150, 2)\n"
     ]
    }
   ],
   "source": [
    "import numpy as np\n",
    "import pandas as pd\n",
    "from sklearn import datasets\n",
    "from sklearn.feature_selection import VarianceThreshold\n",
    "from sklearn.feature_selection import SelectKBest, f_classif\n",
    "from sklearn.feature_selection import SelectFromModel\n",
    "from sklearn.linear_model import LogisticRegression\n",
    "from sklearn.decomposition import PCA\n",
    "from sklearn.decomposition import TruncatedSVD\n",
    "from sklearn.discriminant_analysis import LinearDiscriminantAnalysis\n",
    "\n",
    "iris = datasets.load_iris()\n",
    "\n",
    "X = iris.data[:]\n",
    "y = iris.target\n",
    "print(f'Вихідні дані датасету iris мають розмірність: {X.shape}')\n",
    "\n",
    "vt_selector = VarianceThreshold(threshold=0.2)\n",
    "X_new1 = vt_selector.fit_transform(X)\n",
    "print(f'\\nПеретворені дані методом VarianceTreshold мають розмірність: {X_new1.shape}')\n",
    "\n",
    "X_new2 = SelectKBest(f_classif, k=3).fit_transform(X, y)\n",
    "print(f'\\nПеретворені дані методом SelectKBest мають розмірність: {X_new2.shape}')\n",
    "\n",
    "sfm_selector = SelectFromModel(estimator=LogisticRegression(max_iter=500))\n",
    "sfm_selector.fit(X, y)\n",
    "print(f'\\nМетод SelectFromModel відібрав ознаки: {sfm_selector.get_support(indices=True)}')\n",
    "\n",
    "pca = PCA(n_components=3).fit(X)\n",
    "X_new3 = pca.fit_transform(X)\n",
    "print(f'\\nПеретворені дані методом PCA мають розмірність: {X_new3.shape}')\n",
    "\n",
    "svd = TruncatedSVD(n_components=3, n_iter=7, random_state=42)\n",
    "svd.fit(X)\n",
    "X_new4 = svd.fit_transform(X)\n",
    "print(f'\\nПеретворені дані методом SVD мають розмірність: {X_new4.shape}')\n",
    "\n",
    "lda = LinearDiscriminantAnalysis()\n",
    "lda.fit(X,y)\n",
    "X_new5 = lda.fit_transform(X, y)\n",
    "print(f'\\nПеретворені дані методом LDA мають розмірність: {X_new5.shape}')"
   ]
  },
  {
   "cell_type": "code",
   "execution_count": null,
   "id": "473fdc14",
   "metadata": {},
   "outputs": [],
   "source": []
  }
 ],
 "metadata": {
  "kernelspec": {
   "display_name": "Python 3 (ipykernel)",
   "language": "python",
   "name": "python3"
  },
  "language_info": {
   "codemirror_mode": {
    "name": "ipython",
    "version": 3
   },
   "file_extension": ".py",
   "mimetype": "text/x-python",
   "name": "python",
   "nbconvert_exporter": "python",
   "pygments_lexer": "ipython3",
   "version": "3.9.13"
  }
 },
 "nbformat": 4,
 "nbformat_minor": 5
}
